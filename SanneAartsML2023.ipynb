{
  "cells": [
    {
      "cell_type": "markdown",
      "metadata": {
        "id": "view-in-github",
        "colab_type": "text"
      },
      "source": [
        "<a href=\"https://colab.research.google.com/github/Snrts/PRA3024_BigDataInPhysics_SanneAarts/blob/Week_4/SanneAartsML2023.ipynb\" target=\"_parent\"><img src=\"https://colab.research.google.com/assets/colab-badge.svg\" alt=\"Open In Colab\"/></a>"
      ]
    },
    {
      "cell_type": "code",
      "execution_count": null,
      "metadata": {
        "id": "1fLx-ndGmzr2",
        "outputId": "0b8432d1-eae4-4bc9-d90f-8254037a4f91"
      },
      "outputs": [
        {
          "name": "stdout",
          "output_type": "stream",
          "text": [
            "Requirement already satisfied: keras-rl2==1.0.4 in c:\\users\\sanne\\appdata\\local\\programs\\python\\python311\\lib\\site-packages (1.0.4)\n",
            "Requirement already satisfied: tensorflow>=2.1.0 in c:\\users\\sanne\\appdata\\local\\programs\\python\\python311\\lib\\site-packages (from keras-rl2==1.0.4) (2.12.0rc1)\n",
            "Requirement already satisfied: tensorflow-intel==2.12.0-rc1 in c:\\users\\sanne\\appdata\\local\\programs\\python\\python311\\lib\\site-packages (from tensorflow>=2.1.0->keras-rl2==1.0.4) (2.12.0rc1)\n",
            "Requirement already satisfied: absl-py>=1.0.0 in c:\\users\\sanne\\appdata\\local\\programs\\python\\python311\\lib\\site-packages (from tensorflow-intel==2.12.0-rc1->tensorflow>=2.1.0->keras-rl2==1.0.4) (1.4.0)\n",
            "Requirement already satisfied: astunparse>=1.6.0 in c:\\users\\sanne\\appdata\\local\\programs\\python\\python311\\lib\\site-packages (from tensorflow-intel==2.12.0-rc1->tensorflow>=2.1.0->keras-rl2==1.0.4) (1.6.3)\n",
            "Requirement already satisfied: flatbuffers>=2.0 in c:\\users\\sanne\\appdata\\local\\programs\\python\\python311\\lib\\site-packages (from tensorflow-intel==2.12.0-rc1->tensorflow>=2.1.0->keras-rl2==1.0.4) (23.3.3)\n",
            "Requirement already satisfied: gast<=0.4.0,>=0.2.1 in c:\\users\\sanne\\appdata\\local\\programs\\python\\python311\\lib\\site-packages (from tensorflow-intel==2.12.0-rc1->tensorflow>=2.1.0->keras-rl2==1.0.4) (0.4.0)\n",
            "Requirement already satisfied: google-pasta>=0.1.1 in c:\\users\\sanne\\appdata\\local\\programs\\python\\python311\\lib\\site-packages (from tensorflow-intel==2.12.0-rc1->tensorflow>=2.1.0->keras-rl2==1.0.4) (0.2.0)\n",
            "Requirement already satisfied: h5py>=2.9.0 in c:\\users\\sanne\\appdata\\local\\programs\\python\\python311\\lib\\site-packages (from tensorflow-intel==2.12.0-rc1->tensorflow>=2.1.0->keras-rl2==1.0.4) (3.8.0)\n",
            "Requirement already satisfied: jax>=0.3.15 in c:\\users\\sanne\\appdata\\local\\programs\\python\\python311\\lib\\site-packages (from tensorflow-intel==2.12.0-rc1->tensorflow>=2.1.0->keras-rl2==1.0.4) (0.4.6)\n",
            "Requirement already satisfied: libclang>=13.0.0 in c:\\users\\sanne\\appdata\\local\\programs\\python\\python311\\lib\\site-packages (from tensorflow-intel==2.12.0-rc1->tensorflow>=2.1.0->keras-rl2==1.0.4) (15.0.6.1)\n",
            "Requirement already satisfied: numpy<1.24,>=1.22 in c:\\users\\sanne\\appdata\\local\\programs\\python\\python311\\lib\\site-packages (from tensorflow-intel==2.12.0-rc1->tensorflow>=2.1.0->keras-rl2==1.0.4) (1.23.5)\n",
            "Requirement already satisfied: opt-einsum>=2.3.2 in c:\\users\\sanne\\appdata\\local\\programs\\python\\python311\\lib\\site-packages (from tensorflow-intel==2.12.0-rc1->tensorflow>=2.1.0->keras-rl2==1.0.4) (3.3.0)\n",
            "Requirement already satisfied: packaging in c:\\users\\sanne\\appdata\\roaming\\python\\python311\\site-packages (from tensorflow-intel==2.12.0-rc1->tensorflow>=2.1.0->keras-rl2==1.0.4) (23.0)\n",
            "Requirement already satisfied: protobuf!=4.21.0,!=4.21.1,!=4.21.2,!=4.21.3,!=4.21.4,!=4.21.5,<5.0.0dev,>=3.20.3 in c:\\users\\sanne\\appdata\\local\\programs\\python\\python311\\lib\\site-packages (from tensorflow-intel==2.12.0-rc1->tensorflow>=2.1.0->keras-rl2==1.0.4) (4.22.1)\n",
            "Requirement already satisfied: setuptools in c:\\users\\sanne\\appdata\\local\\programs\\python\\python311\\lib\\site-packages (from tensorflow-intel==2.12.0-rc1->tensorflow>=2.1.0->keras-rl2==1.0.4) (65.5.0)\n",
            "Requirement already satisfied: six>=1.12.0 in c:\\users\\sanne\\appdata\\roaming\\python\\python311\\site-packages (from tensorflow-intel==2.12.0-rc1->tensorflow>=2.1.0->keras-rl2==1.0.4) (1.16.0)\n",
            "Requirement already satisfied: termcolor>=1.1.0 in c:\\users\\sanne\\appdata\\local\\programs\\python\\python311\\lib\\site-packages (from tensorflow-intel==2.12.0-rc1->tensorflow>=2.1.0->keras-rl2==1.0.4) (2.2.0)\n",
            "Requirement already satisfied: typing-extensions>=3.6.6 in c:\\users\\sanne\\appdata\\local\\programs\\python\\python311\\lib\\site-packages (from tensorflow-intel==2.12.0-rc1->tensorflow>=2.1.0->keras-rl2==1.0.4) (4.5.0)\n",
            "Requirement already satisfied: wrapt<1.15,>=1.11.0 in c:\\users\\sanne\\appdata\\local\\programs\\python\\python311\\lib\\site-packages (from tensorflow-intel==2.12.0-rc1->tensorflow>=2.1.0->keras-rl2==1.0.4) (1.14.1)\n",
            "Requirement already satisfied: grpcio<2.0,>=1.24.3 in c:\\users\\sanne\\appdata\\local\\programs\\python\\python311\\lib\\site-packages (from tensorflow-intel==2.12.0-rc1->tensorflow>=2.1.0->keras-rl2==1.0.4) (1.51.3)\n",
            "Requirement already satisfied: tensorboard<2.13,>=2.12 in c:\\users\\sanne\\appdata\\local\\programs\\python\\python311\\lib\\site-packages (from tensorflow-intel==2.12.0-rc1->tensorflow>=2.1.0->keras-rl2==1.0.4) (2.12.0)\n",
            "Requirement already satisfied: tensorflow-estimator<2.13,>=2.12.0rc0 in c:\\users\\sanne\\appdata\\local\\programs\\python\\python311\\lib\\site-packages (from tensorflow-intel==2.12.0-rc1->tensorflow>=2.1.0->keras-rl2==1.0.4) (2.12.0rc0)\n",
            "Requirement already satisfied: keras<2.13,>=2.12.0rc0 in c:\\users\\sanne\\appdata\\local\\programs\\python\\python311\\lib\\site-packages (from tensorflow-intel==2.12.0-rc1->tensorflow>=2.1.0->keras-rl2==1.0.4) (2.12.0rc1)\n",
            "Requirement already satisfied: tensorflow-io-gcs-filesystem>=0.23.1 in c:\\users\\sanne\\appdata\\local\\programs\\python\\python311\\lib\\site-packages (from tensorflow-intel==2.12.0-rc1->tensorflow>=2.1.0->keras-rl2==1.0.4) (0.31.0)\n",
            "Requirement already satisfied: wheel<1.0,>=0.23.0 in c:\\users\\sanne\\appdata\\local\\programs\\python\\python311\\lib\\site-packages (from astunparse>=1.6.0->tensorflow-intel==2.12.0-rc1->tensorflow>=2.1.0->keras-rl2==1.0.4) (0.38.4)\n",
            "Requirement already satisfied: scipy>=1.5 in c:\\users\\sanne\\appdata\\local\\programs\\python\\python311\\lib\\site-packages (from jax>=0.3.15->tensorflow-intel==2.12.0-rc1->tensorflow>=2.1.0->keras-rl2==1.0.4) (1.10.0)\n",
            "Requirement already satisfied: google-auth<3,>=1.6.3 in c:\\users\\sanne\\appdata\\local\\programs\\python\\python311\\lib\\site-packages (from tensorboard<2.13,>=2.12->tensorflow-intel==2.12.0-rc1->tensorflow>=2.1.0->keras-rl2==1.0.4) (2.16.2)\n",
            "Requirement already satisfied: google-auth-oauthlib<0.5,>=0.4.1 in c:\\users\\sanne\\appdata\\local\\programs\\python\\python311\\lib\\site-packages (from tensorboard<2.13,>=2.12->tensorflow-intel==2.12.0-rc1->tensorflow>=2.1.0->keras-rl2==1.0.4) (0.4.6)\n",
            "Requirement already satisfied: markdown>=2.6.8 in c:\\users\\sanne\\appdata\\local\\programs\\python\\python311\\lib\\site-packages (from tensorboard<2.13,>=2.12->tensorflow-intel==2.12.0-rc1->tensorflow>=2.1.0->keras-rl2==1.0.4) (3.4.1)\n",
            "Requirement already satisfied: requests<3,>=2.21.0 in c:\\users\\sanne\\appdata\\local\\programs\\python\\python311\\lib\\site-packages (from tensorboard<2.13,>=2.12->tensorflow-intel==2.12.0-rc1->tensorflow>=2.1.0->keras-rl2==1.0.4) (2.28.2)\n",
            "Requirement already satisfied: tensorboard-data-server<0.8.0,>=0.7.0 in c:\\users\\sanne\\appdata\\local\\programs\\python\\python311\\lib\\site-packages (from tensorboard<2.13,>=2.12->tensorflow-intel==2.12.0-rc1->tensorflow>=2.1.0->keras-rl2==1.0.4) (0.7.0)\n",
            "Requirement already satisfied: tensorboard-plugin-wit>=1.6.0 in c:\\users\\sanne\\appdata\\local\\programs\\python\\python311\\lib\\site-packages (from tensorboard<2.13,>=2.12->tensorflow-intel==2.12.0-rc1->tensorflow>=2.1.0->keras-rl2==1.0.4) (1.8.1)\n",
            "Requirement already satisfied: werkzeug>=1.0.1 in c:\\users\\sanne\\appdata\\local\\programs\\python\\python311\\lib\\site-packages (from tensorboard<2.13,>=2.12->tensorflow-intel==2.12.0-rc1->tensorflow>=2.1.0->keras-rl2==1.0.4) (2.2.3)\n",
            "Requirement already satisfied: cachetools<6.0,>=2.0.0 in c:\\users\\sanne\\appdata\\local\\programs\\python\\python311\\lib\\site-packages (from google-auth<3,>=1.6.3->tensorboard<2.13,>=2.12->tensorflow-intel==2.12.0-rc1->tensorflow>=2.1.0->keras-rl2==1.0.4) (5.3.0)\n",
            "Requirement already satisfied: pyasn1-modules>=0.2.1 in c:\\users\\sanne\\appdata\\local\\programs\\python\\python311\\lib\\site-packages (from google-auth<3,>=1.6.3->tensorboard<2.13,>=2.12->tensorflow-intel==2.12.0-rc1->tensorflow>=2.1.0->keras-rl2==1.0.4) (0.2.8)\n",
            "Requirement already satisfied: rsa<5,>=3.1.4 in c:\\users\\sanne\\appdata\\local\\programs\\python\\python311\\lib\\site-packages (from google-auth<3,>=1.6.3->tensorboard<2.13,>=2.12->tensorflow-intel==2.12.0-rc1->tensorflow>=2.1.0->keras-rl2==1.0.4) (4.9)\n",
            "Requirement already satisfied: requests-oauthlib>=0.7.0 in c:\\users\\sanne\\appdata\\local\\programs\\python\\python311\\lib\\site-packages (from google-auth-oauthlib<0.5,>=0.4.1->tensorboard<2.13,>=2.12->tensorflow-intel==2.12.0-rc1->tensorflow>=2.1.0->keras-rl2==1.0.4) (1.3.1)\n",
            "Requirement already satisfied: charset-normalizer<4,>=2 in c:\\users\\sanne\\appdata\\local\\programs\\python\\python311\\lib\\site-packages (from requests<3,>=2.21.0->tensorboard<2.13,>=2.12->tensorflow-intel==2.12.0-rc1->tensorflow>=2.1.0->keras-rl2==1.0.4) (3.1.0)\n",
            "Requirement already satisfied: idna<4,>=2.5 in c:\\users\\sanne\\appdata\\local\\programs\\python\\python311\\lib\\site-packages (from requests<3,>=2.21.0->tensorboard<2.13,>=2.12->tensorflow-intel==2.12.0-rc1->tensorflow>=2.1.0->keras-rl2==1.0.4) (3.4)\n",
            "Requirement already satisfied: urllib3<1.27,>=1.21.1 in c:\\users\\sanne\\appdata\\local\\programs\\python\\python311\\lib\\site-packages (from requests<3,>=2.21.0->tensorboard<2.13,>=2.12->tensorflow-intel==2.12.0-rc1->tensorflow>=2.1.0->keras-rl2==1.0.4) (1.26.15)\n",
            "Requirement already satisfied: certifi>=2017.4.17 in c:\\users\\sanne\\appdata\\local\\programs\\python\\python311\\lib\\site-packages (from requests<3,>=2.21.0->tensorboard<2.13,>=2.12->tensorflow-intel==2.12.0-rc1->tensorflow>=2.1.0->keras-rl2==1.0.4) (2022.12.7)\n",
            "Requirement already satisfied: MarkupSafe>=2.1.1 in c:\\users\\sanne\\appdata\\local\\programs\\python\\python311\\lib\\site-packages (from werkzeug>=1.0.1->tensorboard<2.13,>=2.12->tensorflow-intel==2.12.0-rc1->tensorflow>=2.1.0->keras-rl2==1.0.4) (2.1.2)\n",
            "Requirement already satisfied: pyasn1<0.5.0,>=0.4.6 in c:\\users\\sanne\\appdata\\local\\programs\\python\\python311\\lib\\site-packages (from pyasn1-modules>=0.2.1->google-auth<3,>=1.6.3->tensorboard<2.13,>=2.12->tensorflow-intel==2.12.0-rc1->tensorflow>=2.1.0->keras-rl2==1.0.4) (0.4.8)\n",
            "Requirement already satisfied: oauthlib>=3.0.0 in c:\\users\\sanne\\appdata\\local\\programs\\python\\python311\\lib\\site-packages (from requests-oauthlib>=0.7.0->google-auth-oauthlib<0.5,>=0.4.1->tensorboard<2.13,>=2.12->tensorflow-intel==2.12.0-rc1->tensorflow>=2.1.0->keras-rl2==1.0.4) (3.2.2)\n",
            "Note: you may need to restart the kernel to use updated packages.\n"
          ]
        }
      ],
      "source": [
        "# %pip install tensorflow==2.3.0\n",
        "# %pip install gym==0.22\n",
        "# %pip install keras\n",
        "%pip install keras-rl2==1.0.4"
      ]
    },
    {
      "cell_type": "code",
      "execution_count": null,
      "metadata": {
        "id": "OukUkXcdmzr4",
        "outputId": "63d79fba-5de2-4372-b24a-5c2a1b978240"
      },
      "outputs": [
        {
          "name": "stderr",
          "output_type": "stream",
          "text": [
            "\n"
          ]
        }
      ],
      "source": [
        "import gym\n",
        "import numpy as np\n",
        "from matplotlib import pyplot as plt\n",
        "import random\n",
        "\n",
        "from collections import deque\n",
        "from keras.models import Sequential\n",
        "from keras.layers import Dense,  Flatten\n",
        "from keras.optimizers import Adam\n",
        "\n",
        "from rl.agents import DQNAgent\n",
        "from rl.policy import EpsGreedyQPolicy, BoltzmannQPolicy, LinearAnnealedPolicy\n",
        "from rl.memory import SequentialMemory"
      ]
    },
    {
      "cell_type": "code",
      "execution_count": null,
      "metadata": {
        "id": "4LNrRAivmzr4"
      },
      "outputs": [],
      "source": [
        "ENV_NAME = \"CartPole-v1\"\n",
        "EPISODES = 1000\n",
        "MAX_RUNS = 10\n",
        "MAX_STEPS = 10000\n",
        "BATCH_SIZE = 50\n",
        "MEMORY_SIZE = 10000\n",
        "# MEMORY_SIZE = 10000\n",
        "TARGET_MODEL_UPDATE = 1000\n",
        "GAMMA = 0.99\n",
        "LEARNING_RATE = 1e-3\n",
        "MAX_EXPLORATION_RATE = 1\n",
        "MIN_EXPLORATION_RATE = 0.01\n",
        "EXPLORATION_RATE_DECAY = 0.995"
      ]
    },
    {
      "cell_type": "markdown",
      "metadata": {
        "id": "Zp0_xAQImzr5"
      },
      "source": [
        "$$Q_{new}(s, a)=Q(s,a)+\\alpha (r(s,a)+ \\gamma * max(Q'(s',a'))-Q(s,a)) \\hspace{1em}\n",
        "\\begin{array}{rl}\n",
        "Q_{new}:& \\text{New Q value}\\\\\n",
        "Q:& \\text{Current Q value}\\\\\n",
        "s:& \\text{State}\\\\\n",
        "a:& \\text{Action}\\\\\n",
        "\\alpha:& \\text{Learning Rate}\\\\\n",
        "r:& \\text{reward}\\\\\n",
        "\\gamma:& \\text{Discount rate}\\\\\n",
        "max(Q'(s',a')):& \\text{Maximum expected future reward}\\\\\n",
        "\\end{array}$$"
      ]
    },
    {
      "cell_type": "code",
      "execution_count": null,
      "metadata": {
        "id": "NZs2F3LJmzr6"
      },
      "outputs": [],
      "source": [
        "class dqnSolver:\n",
        "    def __init__(self, env):\n",
        "        self.env = env\n",
        "        self.states = self.env.observation_space.shape[0]\n",
        "        self.actions = self.env.action_space.n\n",
        "        \n",
        "        self.model = self.build_model()\n",
        "        self.learning_rate=LEARNING_RATE\n",
        "        self.memory = SequentialMemory(\n",
        "                    limit=50000, \n",
        "                    window_length=1)\n",
        "        self.policy = LinearAnnealedPolicy(EpsGreedyQPolicy(eps=0.2), attr='eps', value_max=1., value_min=.01, value_test=.05, nb_steps=50000)\n",
        "        # self.policy = EpsGreedyQPolicy(eps=MAX_EXPLORATION_RATE)\n",
        "        self.dqn = self.build_agent()\n",
        "        \n",
        "    def build_model(self):\n",
        "        # Building Network\n",
        "        # Create a Sequential model using keras\n",
        "        model = Sequential()\n",
        "        #Input - 4 different states \n",
        "        model.add(Flatten(input_shape=(1,self.states)))\n",
        "        model.add(Dense(24, activation='relu'))\n",
        "        model.add(Dense(24, activation='relu'))\n",
        "        # Output - one node for each possible action, the one with the \n",
        "        # highest output value will be be returned as action\n",
        "        model.add(Dense(self.actions, activation='linear'))\n",
        "        # model.compile(loss='mse', optimizer=RMSprop(lr=LEARNING_RATE))\n",
        "        model.summary()\n",
        "        return model\n",
        "       \n",
        "    # #The deep learning model, to use Q-learning\n",
        "    def build_agent(self): \n",
        "        dqn = DQNAgent(\n",
        "                    model=self.model, \n",
        "                    memory=self.memory, \n",
        "                    policy=self.policy,\n",
        "                    nb_actions = self.actions,\n",
        "                    nb_steps_warmup = 10,\n",
        "                    target_model_update = 1e-2,\n",
        "                    gamma = GAMMA,\n",
        "                    batch_size=BATCH_SIZE,\n",
        "                    )\n",
        "        # dqn.compile(Adam(lr=LEARNING_RATE), metrics=['mae'])\n",
        "        return dqn\n",
        "\n",
        "        \n",
        "    \n",
        "   "
      ]
    },
    {
      "cell_type": "code",
      "execution_count": null,
      "metadata": {
        "id": "lCYli3Q3mzr7"
      },
      "outputs": [],
      "source": [
        "def cartpole():\n",
        "    env = gym.make(ENV_NAME)\n",
        "    solver = dqnSolver(env)\n",
        "    dqn = solver.dqn\n",
        "    return dqn\n",
        "    # history = dqn.fit(env, nb_steps=50000, visualize=False, verbose=1)\n",
        "    # env.close()\n",
        "    # return history\n",
        "    "
      ]
    },
    {
      "cell_type": "code",
      "execution_count": null,
      "metadata": {
        "id": "piQwa_LCmzr8",
        "outputId": "86dd9916-91a4-4b1b-8ce2-62a52651965a"
      },
      "outputs": [
        {
          "name": "stdout",
          "output_type": "stream",
          "text": [
            "Model: \"sequential_7\"\n",
            "_________________________________________________________________\n",
            " Layer (type)                Output Shape              Param #   \n",
            "=================================================================\n",
            " flatten_7 (Flatten)         (None, 4)                 0         \n",
            "                                                                 \n",
            " dense_21 (Dense)            (None, 24)                120       \n",
            "                                                                 \n",
            " dense_22 (Dense)            (None, 24)                600       \n",
            "                                                                 \n",
            " dense_23 (Dense)            (None, 2)                 50        \n",
            "                                                                 \n",
            "=================================================================\n",
            "Total params: 770\n",
            "Trainable params: 770\n",
            "Non-trainable params: 0\n",
            "_________________________________________________________________\n"
          ]
        },
        {
          "data": {
            "text/plain": [
              "['_DQNAgent__policy',\n",
              " '_DQNAgent__test_policy',\n",
              " '__class__',\n",
              " '__delattr__',\n",
              " '__dict__',\n",
              " '__dir__',\n",
              " '__doc__',\n",
              " '__eq__',\n",
              " '__format__',\n",
              " '__ge__',\n",
              " '__getattribute__',\n",
              " '__getstate__',\n",
              " '__gt__',\n",
              " '__hash__',\n",
              " '__init__',\n",
              " '__init_subclass__',\n",
              " '__le__',\n",
              " '__lt__',\n",
              " '__module__',\n",
              " '__ne__',\n",
              " '__new__',\n",
              " '__reduce__',\n",
              " '__reduce_ex__',\n",
              " '__repr__',\n",
              " '__setattr__',\n",
              " '__sizeof__',\n",
              " '__str__',\n",
              " '__subclasshook__',\n",
              " '__weakref__',\n",
              " '_on_test_begin',\n",
              " '_on_test_end',\n",
              " '_on_train_begin',\n",
              " '_on_train_end',\n",
              " 'backward',\n",
              " 'batch_size',\n",
              " 'compile',\n",
              " 'compiled',\n",
              " 'compute_batch_q_values',\n",
              " 'compute_q_values',\n",
              " 'custom_model_objects',\n",
              " 'delta_clip',\n",
              " 'dueling_type',\n",
              " 'enable_double_dqn',\n",
              " 'enable_dueling_network',\n",
              " 'fit',\n",
              " 'forward',\n",
              " 'gamma',\n",
              " 'get_config',\n",
              " 'layers',\n",
              " 'load_weights',\n",
              " 'memory',\n",
              " 'memory_interval',\n",
              " 'metrics_names',\n",
              " 'model',\n",
              " 'nb_actions',\n",
              " 'nb_steps_warmup',\n",
              " 'policy',\n",
              " 'process_state_batch',\n",
              " 'processor',\n",
              " 'recent_action',\n",
              " 'recent_observation',\n",
              " 'reset_states',\n",
              " 'save_weights',\n",
              " 'step',\n",
              " 'target_model_update',\n",
              " 'test',\n",
              " 'test_policy',\n",
              " 'train_interval',\n",
              " 'training',\n",
              " 'update_target_model_hard']"
            ]
          },
          "execution_count": 22,
          "metadata": {},
          "output_type": "execute_result"
        }
      ],
      "source": [
        "history = cartpole()\n",
        "# plt.plot(history.history['episode_reward'])\n",
        "dir(history)\n"
      ]
    },
    {
      "cell_type": "code",
      "execution_count": null,
      "metadata": {
        "id": "4jXph3Uvmzr8",
        "outputId": "14cb3f35-5338-48a8-a4e1-c784778b8855"
      },
      "outputs": [
        {
          "ename": "KeyError",
          "evalue": "'time'",
          "output_type": "error",
          "traceback": [
            "\u001b[1;31m---------------------------------------------------------------------------\u001b[0m",
            "\u001b[1;31mKeyError\u001b[0m                                  Traceback (most recent call last)",
            "Cell \u001b[1;32mIn[7], line 1\u001b[0m\n\u001b[1;32m----> 1\u001b[0m history\u001b[39m.\u001b[39;49mhistory[\u001b[39m'\u001b[39;49m\u001b[39mtime\u001b[39;49m\u001b[39m'\u001b[39;49m]\n",
            "\u001b[1;31mKeyError\u001b[0m: 'time'"
          ]
        }
      ],
      "source": [
        "history.history['time']"
      ]
    },
    {
      "cell_type": "markdown",
      "metadata": {
        "id": "dCvcrCU2mzr8"
      },
      "source": [
        "## The cartPole\n",
        "### Action space\n",
        "<ul>\n",
        "<li>push left - 0</li>\n",
        "<li>push right - 1</li>\n",
        "</ul>\n",
        "\n",
        "### Observation space\n",
        "|num|Observation|Values|Episode terminates for:|\n",
        "|-|-|-|-|\n",
        "|0|Cart position|$\\pm$ 4.8|$\\lvert x \\rvert > 2.4$|\n",
        "|1|Cart Velocity|$\\pm \\infty$||\n",
        "|2|Pole Angle|$\\pm$ 24 $^ \\circ$|$\\lvert \\theta \\rvert > 12 ^\\circ $|\n",
        "|3|Pole Angular Velocity|$\\pm\\infty$||\n"
      ]
    },
    {
      "cell_type": "code",
      "execution_count": null,
      "metadata": {
        "id": "HFArGQsvmzr9"
      },
      "outputs": [],
      "source": [
        "if __name__ == '__main__':\n",
        "    env = gym.make(ENV_NAME)"
      ]
    },
    {
      "cell_type": "code",
      "execution_count": null,
      "metadata": {
        "id": "Lauc66J7mzr9"
      },
      "outputs": [],
      "source": [
        "# # def cartpole():\n",
        "# #     env = gym.make(ENV_NAME)\n",
        "# #     solver = dqnSolver(env)\n",
        "# #     solver.\n",
        "\n",
        "# def cartpole():\n",
        "#     episodes = MAX_RUNS\n",
        "\n",
        "#     env = gym.make(ENV_NAME)\n",
        "#     solver = dqnSolver(env)\n",
        "#     dqn = solver.build_agent()\n",
        "#     runsteplog, scores = [], []\n",
        "#     for episode in range(episodes):\n",
        "#         state = env.reset()\n",
        "#         # state = np.reshape(state, [1, states])\n",
        "#         done = False\n",
        "#         # starting score is 0\n",
        "#         score = 0\n",
        "#         # anytime the cartpole has not fully fallen over\n",
        "#         while not done:\n",
        "#             #load random action left (0) or right(1) \n",
        "#             action = dqn.act(state)\n",
        "#             #apply random action\n",
        "#             next_state, reward, done,_ = env.step(action)\n",
        "#             # reward = reward if not done else - reward\n",
        "#             score+=reward\n",
        "\n",
        "#             dqn.remember(state, action,reward, next_state, done)\n",
        "#             state= next_state\n",
        "#         print(f\"episode: {episode}, score: {score}\")\n",
        "#         scores.append(score)\n",
        "#         dqn.train()\n",
        "#         # train the agent on a batch of previous experiences\n",
        "        \n",
        "#         # print(f'episode: {episode}, Score: {score}')\n",
        "\n",
        "#     # plt.figure(figsize=(20, 5))\n",
        "#     # plt.plot(range(len(scores.history['episode_reward'])), scores.history['episode_reward'],label='episode reward')\n",
        "#     # plt.xlabel('Episode')\n",
        "#     # plt.ylabel('Reward')\n",
        "#     # plt.show()\n",
        "#     # plt.plot(scores)\n",
        "#     # plt.xlabel(\"episode\")\n",
        "#     # plt.ylabel(\"score\")\n",
        "#     # plt.title(\"Training scores\")\n",
        "#     # plt.show()\n",
        "\n",
        "#     # env.close()\n",
        "\n",
        "# #     env.close()"
      ]
    },
    {
      "cell_type": "code",
      "execution_count": null,
      "metadata": {
        "id": "Hb5ZH1Wzmzr9",
        "outputId": "5c60877a-62b8-466a-940b-f13a7c84ed15"
      },
      "outputs": [
        {
          "name": "stdout",
          "output_type": "stream",
          "text": [
            "Model: \"sequential_1\"\n",
            "_________________________________________________________________\n",
            " Layer (type)                Output Shape              Param #   \n",
            "=================================================================\n",
            " flatten_1 (Flatten)         (None, 4)                 0         \n",
            "                                                                 \n",
            " dense_3 (Dense)             (None, 24)                120       \n",
            "                                                                 \n",
            " dense_4 (Dense)             (None, 24)                600       \n",
            "                                                                 \n",
            " dense_5 (Dense)             (None, 2)                 50        \n",
            "                                                                 \n",
            "=================================================================\n",
            "Total params: 770\n",
            "Trainable params: 770\n",
            "Non-trainable params: 0\n",
            "_________________________________________________________________\n",
            "Testing for 10 episodes ...\n",
            "Episode 1: reward: 8.000, steps: 8\n",
            "Episode 2: reward: 8.000, steps: 8\n",
            "Episode 3: reward: 10.000, steps: 10\n",
            "Episode 4: reward: 8.000, steps: 8\n",
            "Episode 5: reward: 9.000, steps: 9\n",
            "Episode 6: reward: 9.000, steps: 9\n",
            "Episode 7: reward: 8.000, steps: 8\n",
            "Episode 8: reward: 9.000, steps: 9\n",
            "Episode 9: reward: 11.000, steps: 11\n",
            "Episode 10: reward: 10.000, steps: 10\n"
          ]
        },
        {
          "data": {
            "image/png": "[encoded data removed]",
            "text/plain": [
              "<Figure size 2000x500 with 1 Axes>"
            ]
          },
          "metadata": {},
          "output_type": "display_data"
        }
      ],
      "source": [
        "cartpole()"
      ]
    },
    {
      "cell_type": "markdown",
      "metadata": {
        "id": "Oj8jZ3Dbmzr-"
      },
      "source": [
        "## Agent"
      ]
    },
    {
      "cell_type": "markdown",
      "metadata": {
        "id": "XhjSWmsamzr-"
      },
      "source": [
        "$$loss=\\left(r+\\gamma max \\hat{Q}(s,a')-Q(s,a\\right)^2$$"
      ]
    }
  ],
  "metadata": {
    "kernelspec": {
      "display_name": "Python 3",
      "language": "python",
      "name": "python3"
    },
    "language_info": {
      "codemirror_mode": {
        "name": "ipython",
        "version": 3
      },
      "file_extension": ".py",
      "mimetype": "text/x-python",
      "name": "python",
      "nbconvert_exporter": "python",
      "pygments_lexer": "ipython3",
      "version": "3.11.2"
    },
    "orig_nbformat": 4,
    "colab": {
      "provenance": [],
      "include_colab_link": true
    }
  },
  "nbformat": 4,
  "nbformat_minor": 0
}